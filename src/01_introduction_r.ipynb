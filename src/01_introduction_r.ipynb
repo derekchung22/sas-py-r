{
 "cells": [
  {
   "cell_type": "markdown",
   "metadata": {},
   "source": [
    "# Introduction to Python and R for SAS Developers #\n",
    "## Jupyter Notebook ##\n",
    "\n",
    "Example using a Jupyter Notebook with R.\n",
    "\n",
    "### Sample Calculation ###"
   ]
  },
  {
   "cell_type": "code",
   "execution_count": 1,
   "metadata": {
    "collapsed": false
   },
   "outputs": [
    {
     "name": "stdout",
     "output_type": "stream",
     "text": [
      "[1] 42\n"
     ]
    }
   ],
   "source": [
    "answer <- 42\n",
    "print(answer)"
   ]
  },
  {
   "cell_type": "markdown",
   "metadata": {
    "collapsed": true
   },
   "source": [
    "### Tabular Data ###\n",
    "\n",
    "Read data created in `random.r`."
   ]
  },
  {
   "cell_type": "code",
   "execution_count": 2,
   "metadata": {
    "collapsed": true
   },
   "outputs": [],
   "source": [
    "library(data.table)\n",
    "dtpolicies <- data.table(read.csv(\"../data/policies.csv\"));"
   ]
  },
  {
   "cell_type": "code",
   "execution_count": 3,
   "metadata": {
    "collapsed": false
   },
   "outputs": [
    {
     "data": {
      "text/html": [
       "<table>\n",
       "<thead><tr><th scope=col>policy</th><th scope=col>age</th><th scope=col>cancel_date</th><th scope=col>make</th><th scope=col>pol_from</th><th scope=col>pol_to</th><th scope=col>state</th></tr></thead>\n",
       "<tbody>\n",
       "\t<tr><td>POL000000001</td><td>84          </td><td>            </td><td>Mazda       </td><td>2016-04-23  </td><td>2017-04-22  </td><td>NSW         </td></tr>\n",
       "\t<tr><td>POL000000002</td><td>53          </td><td>            </td><td>Mitsubishi  </td><td>2017-03-21  </td><td>2018-03-20  </td><td>NSW         </td></tr>\n",
       "\t<tr><td>POL000000003</td><td>53          </td><td>            </td><td>Ford        </td><td>2016-05-12  </td><td>2017-05-11  </td><td>NSW         </td></tr>\n",
       "\t<tr><td>POL000000004</td><td>23          </td><td>            </td><td>Nissan      </td><td>2016-09-20  </td><td>2017-09-19  </td><td>NSW         </td></tr>\n",
       "\t<tr><td>POL000000005</td><td>23          </td><td>            </td><td>Holden      </td><td>2016-05-08  </td><td>2017-05-07  </td><td>NSW         </td></tr>\n",
       "\t<tr><td>POL000000006</td><td>56          </td><td>2017-01-30  </td><td>Nissan      </td><td>2017-02-11  </td><td>2018-02-10  </td><td>NSW         </td></tr>\n",
       "</tbody>\n",
       "</table>\n"
      ],
      "text/latex": [
       "\\begin{tabular}{r|lllllll}\n",
       " policy & age & cancel\\_date & make & pol\\_from & pol\\_to & state\\\\\n",
       "\\hline\n",
       "\t POL000000001 & 84           &              & Mazda        & 2016-04-23   & 2017-04-22   & NSW         \\\\\n",
       "\t POL000000002 & 53           &              & Mitsubishi   & 2017-03-21   & 2018-03-20   & NSW         \\\\\n",
       "\t POL000000003 & 53           &              & Ford         & 2016-05-12   & 2017-05-11   & NSW         \\\\\n",
       "\t POL000000004 & 23           &              & Nissan       & 2016-09-20   & 2017-09-19   & NSW         \\\\\n",
       "\t POL000000005 & 23           &              & Holden       & 2016-05-08   & 2017-05-07   & NSW         \\\\\n",
       "\t POL000000006 & 56           & 2017-01-30   & Nissan       & 2017-02-11   & 2018-02-10   & NSW         \\\\\n",
       "\\end{tabular}\n"
      ],
      "text/markdown": [
       "\n",
       "policy | age | cancel_date | make | pol_from | pol_to | state | \n",
       "|---|---|---|---|---|---|\n",
       "| POL000000001 | 84           |              | Mazda        | 2016-04-23   | 2017-04-22   | NSW          | \n",
       "| POL000000002 | 53           |              | Mitsubishi   | 2017-03-21   | 2018-03-20   | NSW          | \n",
       "| POL000000003 | 53           |              | Ford         | 2016-05-12   | 2017-05-11   | NSW          | \n",
       "| POL000000004 | 23           |              | Nissan       | 2016-09-20   | 2017-09-19   | NSW          | \n",
       "| POL000000005 | 23           |              | Holden       | 2016-05-08   | 2017-05-07   | NSW          | \n",
       "| POL000000006 | 56           | 2017-01-30   | Nissan       | 2017-02-11   | 2018-02-10   | NSW          | \n",
       "\n",
       "\n"
      ],
      "text/plain": [
       "  policy       age cancel_date make       pol_from   pol_to     state\n",
       "1 POL000000001 84              Mazda      2016-04-23 2017-04-22 NSW  \n",
       "2 POL000000002 53              Mitsubishi 2017-03-21 2018-03-20 NSW  \n",
       "3 POL000000003 53              Ford       2016-05-12 2017-05-11 NSW  \n",
       "4 POL000000004 23              Nissan     2016-09-20 2017-09-19 NSW  \n",
       "5 POL000000005 23              Holden     2016-05-08 2017-05-07 NSW  \n",
       "6 POL000000006 56  2017-01-30  Nissan     2017-02-11 2018-02-10 NSW  "
      ]
     },
     "metadata": {},
     "output_type": "display_data"
    }
   ],
   "source": [
    "head(dtpolicies)"
   ]
  },
  {
   "cell_type": "markdown",
   "metadata": {},
   "source": [
    "### Chart ###\n",
    "\n",
    "Bar chart by State."
   ]
  },
  {
   "cell_type": "code",
   "execution_count": 4,
   "metadata": {
    "collapsed": true
   },
   "outputs": [],
   "source": [
    "dtfreq <- dtpolicies[,.N,state]"
   ]
  },
  {
   "cell_type": "code",
   "execution_count": 5,
   "metadata": {
    "collapsed": false
   },
   "outputs": [
    {
     "name": "stdout",
     "output_type": "stream",
     "text": [
      "   state   N\n",
      "1:   NSW 775\n",
      "2:   VIC 610\n",
      "3:   QLD 486\n",
      "4:    WA 263\n",
      "5:    SA 171\n",
      "6:   TAS  51\n",
      "7:   ACT  39\n",
      "8:    NT  24\n"
     ]
    }
   ],
   "source": [
    "print(dtfreq)"
   ]
  },
  {
   "cell_type": "code",
   "execution_count": 6,
   "metadata": {
    "collapsed": false
   },
   "outputs": [
    {
     "data": {},
     "metadata": {},
     "output_type": "display_data"
    },
    {
     "data": {
      "image/png": "[encoded data removed]",
      "text/plain": [
       "plot without title"
      ]
     },
     "metadata": {},
     "output_type": "display_data"
    }
   ],
   "source": [
    "library(ggplot2)\n",
    "update_geom_defaults(\"bar\", list(fill = \"blue\"))\n",
    "ggplot(data=dtfreq, aes(x=state, y=N)) + geom_bar(stat=\"identity\", color=\"blue\") + xlab(\"State\") + ylab(\"Count\")"
   ]
  }
 ],
 "metadata": {
  "kernelspec": {
   "display_name": "R",
   "language": "R",
   "name": "ir"
  },
  "language_info": {
   "codemirror_mode": "r",
   "file_extension": ".r",
   "mimetype": "text/x-r-source",
   "name": "R",
   "pygments_lexer": "r",
   "version": "3.3.2"
  }
 },
 "nbformat": 4,
 "nbformat_minor": 2
}
