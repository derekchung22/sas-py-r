{
 "cells": [
  {
   "cell_type": "markdown",
   "metadata": {},
   "source": [
    "# Introduction to Python and R for SAS Developers #\n",
    "## Jupyter Notebook ##\n",
    "\n",
    "Example using a Jupyter Notebook with Python."
   ]
  },
  {
   "cell_type": "markdown",
   "metadata": {},
   "source": [
    "### Sample Calculation"
   ]
  },
  {
   "cell_type": "code",
   "execution_count": 1,
   "metadata": {},
   "outputs": [
    {
     "name": "stdout",
     "output_type": "stream",
     "text": [
      "42\n"
     ]
    }
   ],
   "source": [
    "answer = 42\n",
    "print(answer)"
   ]
  },
  {
   "cell_type": "markdown",
   "metadata": {
    "collapsed": true
   },
   "source": [
    "### Tabular Data\n",
    "Read data created in `random.py`."
   ]
  },
  {
   "cell_type": "code",
   "execution_count": 2,
   "metadata": {
    "collapsed": true
   },
   "outputs": [],
   "source": [
    "import pandas as pd\n",
    "dfpolicies = pd.read_csv(\"../data/policies.csv\")"
   ]
  },
  {
   "cell_type": "code",
   "execution_count": 3,
   "metadata": {},
   "outputs": [
    {
     "name": "stdout",
     "output_type": "stream",
     "text": [
      "         policy  age cancel_date        make    pol_from      pol_to state\n",
      "0  POL000000001   84         NaN       Mazda  2016-04-23  2017-04-22   NSW\n",
      "1  POL000000002   53         NaN  Mitsubishi  2017-03-21  2018-03-20   NSW\n",
      "2  POL000000003   53         NaN        Ford  2016-05-12  2017-05-11   NSW\n",
      "3  POL000000004   23         NaN      Nissan  2016-09-20  2017-09-19   NSW\n",
      "4  POL000000005   23         NaN      Holden  2016-05-08  2017-05-07   NSW\n",
      "5  POL000000006   56  2017-01-30      Nissan  2017-02-11  2018-02-10   NSW\n",
      "6  POL000000007   93         NaN  Mitsubishi  2016-06-21  2017-06-20   NSW\n",
      "7  POL000000008   77         NaN      Toyota  2016-12-23  2017-12-22   NSW\n",
      "8  POL000000009   95         NaN       Mazda  2017-02-05  2018-02-04   NSW\n",
      "9  POL000000010   37         NaN        Ford  2017-02-05  2018-02-04   NSW\n"
     ]
    }
   ],
   "source": [
    "print(dfpolicies[:10])"
   ]
  },
  {
   "cell_type": "markdown",
   "metadata": {},
   "source": [
    "### Chart\n",
    "Bar chart by State."
   ]
  },
  {
   "cell_type": "code",
   "execution_count": 4,
   "metadata": {
    "collapsed": true
   },
   "outputs": [],
   "source": [
    "dffreq = dfpolicies.groupby(['state'])['state'].count().to_frame()"
   ]
  },
  {
   "cell_type": "code",
   "execution_count": 5,
   "metadata": {},
   "outputs": [
    {
     "name": "stdout",
     "output_type": "stream",
     "text": [
      "       state\n",
      "state       \n",
      "ACT       39\n",
      "NSW      775\n",
      "NT        24\n",
      "QLD      486\n",
      "SA       171\n",
      "TAS       51\n",
      "VIC      610\n",
      "WA       263\n"
     ]
    }
   ],
   "source": [
    "print(dffreq)"
   ]
  },
  {
   "cell_type": "code",
   "execution_count": 6,
   "metadata": {},
   "outputs": [
    {
     "data": {
      "image/png": "[encoded data removed]",
      "text/plain": [
       "<matplotlib.figure.Figure at 0x7f09519554e0>"
      ]
     },
     "metadata": {},
     "output_type": "display_data"
    }
   ],
   "source": [
    "import numpy as np\n",
    "import matplotlib.pyplot as plt\n",
    "\n",
    "fig, ax = plt.subplots()\n",
    "x_ticks = np.arange(len(dffreq.index))\n",
    "ax.bar(x_ticks, dffreq['state'])\n",
    "ax.set_xticks(x_ticks)\n",
    "ax.set_xticklabels(dffreq.index)\n",
    "plt.show()"
   ]
  }
 ],
 "metadata": {
  "kernelspec": {
   "display_name": "Python 3",
   "language": "python",
   "name": "python3"
  },
  "language_info": {
   "codemirror_mode": {
    "name": "ipython",
    "version": 3
   },
   "file_extension": ".py",
   "mimetype": "text/x-python",
   "name": "python",
   "nbconvert_exporter": "python",
   "pygments_lexer": "ipython3",
   "version": "3.5.2"
  },
  "widgets": {
   "state": {},
   "version": "1.1.2"
  }
 },
 "nbformat": 4,
 "nbformat_minor": 2
}
